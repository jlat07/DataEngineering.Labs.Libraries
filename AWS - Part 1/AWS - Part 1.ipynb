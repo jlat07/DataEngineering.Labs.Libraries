{
 "cells": [
  {
   "cell_type": "markdown",
   "metadata": {},
   "source": [
    "## Intro to AWS\n",
    "\n",
    "Amazon Web Services (AWS) is far and away the largest provider of cloud compute infrastructure in the world. Learning how to interact with AWS is an extremely valuable and powerful tool to add to your belt.\n",
    "\n",
    "AWS can be thought of as a set of building blocks, with which you can build almost anything imaginable. \n",
    "\n",
    "Mobile apps, personal websites, photo back up, ₿ mining, databases, data lakes, global IT infrastructure, and more can all be built using AWS. For most people, it is true to say that no day goes by without them interacting in one form or another with a service hosted on AWS. So household names that are built on AWS are:\n",
    "\n",
    " - Netflix\n",
    " - Reddit\n",
    " - Pinterest\n",
    " - AirBnb\n",
    " - State and local government\n",
    " - US Intelligence Agencies\n",
    " - and many, MANY more!\n",
    " \n",
    "The labs we'll work through here, will help you get your feet wet with the platform. There are an ever growing number of services, so we'll work through a few examples of how to interact with the AWS services, and then you'll get a chance later in the course to explore more on your own.\n",
    "\n",
    "In essence, there are three ways to interact with AWS services:\n",
    "\n",
    "- The AWS CLI (Command Line Interface)\n",
    "    - Can be used directly from your command line\n",
    "- Boto3 (the official AWS SDK for Python)\n",
    "    - Used for integrating AWS services into Python code\n",
    "- The AWS Console (https://console.aws.amazon.com/)\n",
    "    - AWS website, where you can see all your services, and manually spin up services\n",
    "    \n",
    "We'll start with a number of Boto3 examples, then log into the console and try a few things, and finally give the CLI a shot.\n",
    "\n",
    "For the AWS labs you'll need:\n",
    " - Boto3 (python library)\n",
    " - awscli (python library)"
   ]
  },
  {
   "cell_type": "code",
   "execution_count": 2,
   "metadata": {},
   "outputs": [],
   "source": [
    "#import boto3\n",
    "\n",
    "import boto3"
   ]
  },
  {
   "cell_type": "markdown",
   "metadata": {},
   "source": [
    "## S3 (Simple Storage Service)\n",
    "\n",
    "A few things to keep in mind (from AWS):\n",
    "\n",
    "- Bucket names must be unique across all existing bucket names in Amazon S3.\n",
    "\n",
    "- Bucket names must comply with DNS naming conventions.\n",
    "\n",
    "- Bucket names must be at least 3 and no more than 63 characters long.\n",
    "\n",
    "- Bucket names must not contain uppercase characters or underscores.\n",
    "\n",
    "- Bucket names must start with a lowercase letter or number.\n",
    "\n",
    "- Bucket names must be a series of one or more labels. Adjacent labels are separated by a single period (.). Bucket names can contain lowercase letters, numbers, and hyphens. Each label must start and end with a lowercase letter or a number.\n",
    "\n",
    "- Bucket names must not be formatted as an IP address (for example, 192.168.5.4)."
   ]
  },
  {
   "cell_type": "code",
   "execution_count": 3,
   "metadata": {},
   "outputs": [],
   "source": [
    "#define the s3 client in Boto3\n",
    "\n",
    "s3 = boto3.client('s3') "
   ]
  },
  {
   "cell_type": "code",
   "execution_count": 4,
   "metadata": {},
   "outputs": [
    {
     "data": {
      "text/plain": [
       "{'ResponseMetadata': {'RequestId': '8D0F97AA649F4B58',\n",
       "  'HostId': 'pDzzmNy3TPSdGJPkAxLWyEW6MIC6IKE/fkPurSazHKR3oz9drQGV8xOR9YXgPVZMdxt/zkFT/m4=',\n",
       "  'HTTPStatusCode': 200,\n",
       "  'HTTPHeaders': {'x-amz-id-2': 'pDzzmNy3TPSdGJPkAxLWyEW6MIC6IKE/fkPurSazHKR3oz9drQGV8xOR9YXgPVZMdxt/zkFT/m4=',\n",
       "   'x-amz-request-id': '8D0F97AA649F4B58',\n",
       "   'date': 'Tue, 24 Mar 2020 23:33:24 GMT',\n",
       "   'location': '/the.best.zipcode.bucket.there.ever.was.ya.digg',\n",
       "   'content-length': '0',\n",
       "   'server': 'AmazonS3'},\n",
       "  'RetryAttempts': 0},\n",
       " 'Location': '/the.best.zipcode.bucket.there.ever.was.ya.digg'}"
      ]
     },
     "execution_count": 4,
     "metadata": {},
     "output_type": "execute_result"
    }
   ],
   "source": [
    "#create a new bucket (bucket names are globally unique, so you'll have to use a name that hasn't been used before)\n",
    "\n",
    "s3.create_bucket(Bucket=\"the.best.zipcode.bucket.there.ever.was.ya.digg\")"
   ]
  },
  {
   "cell_type": "code",
   "execution_count": 5,
   "metadata": {},
   "outputs": [
    {
     "name": "stdout",
     "output_type": "stream",
     "text": [
      "the.best.zipcode.bucket.there.ever.was.ya.digg\n"
     ]
    }
   ],
   "source": [
    "#show all buckets in your account to confirm your bucket was created\n",
    "\n",
    "buckets = s3.list_buckets()\n",
    "for i in buckets['Buckets']:\n",
    "    if i['Name'] == 'the.best.zipcode.bucket.there.ever.was.ya.digg':\n",
    "        print(i['Name'])"
   ]
  },
  {
   "cell_type": "code",
   "execution_count": 7,
   "metadata": {},
   "outputs": [],
   "source": [
    "#upload the \"hello world.rtf\" into your new bucket\n",
    "\n",
    "s3.upload_file(Filename='hello world2.rtf', Bucket=\"the.best.zipcode.bucket.there.ever.was.ya.digg\", Key=\"hello world2\")"
   ]
  },
  {
   "cell_type": "code",
   "execution_count": 8,
   "metadata": {},
   "outputs": [
    {
     "data": {
      "text/plain": [
       "{'ResponseMetadata': {'RequestId': 'C9811713BBE8FD76',\n",
       "  'HostId': 'VPtaFo9laJvxycsiITTbrXW3soponR2G1H5ahotYrgiduMsVlbiszlcc8hWgIxHyzKzXdFbIS2o=',\n",
       "  'HTTPStatusCode': 200,\n",
       "  'HTTPHeaders': {'x-amz-id-2': 'VPtaFo9laJvxycsiITTbrXW3soponR2G1H5ahotYrgiduMsVlbiszlcc8hWgIxHyzKzXdFbIS2o=',\n",
       "   'x-amz-request-id': 'C9811713BBE8FD76',\n",
       "   'date': 'Tue, 24 Mar 2020 23:34:53 GMT',\n",
       "   'x-amz-bucket-region': 'us-east-1',\n",
       "   'content-type': 'application/xml',\n",
       "   'transfer-encoding': 'chunked',\n",
       "   'server': 'AmazonS3'},\n",
       "  'RetryAttempts': 0},\n",
       " 'IsTruncated': False,\n",
       " 'Marker': '',\n",
       " 'Contents': [{'Key': 'hello world2',\n",
       "   'LastModified': datetime.datetime(2020, 3, 24, 23, 34, 45, tzinfo=tzutc()),\n",
       "   'ETag': '\"c1cbd445d50ae809918d4997cc9fc78c\"',\n",
       "   'Size': 378,\n",
       "   'StorageClass': 'STANDARD',\n",
       "   'Owner': {'DisplayName': 'jlat',\n",
       "    'ID': 'e8069fbd93d3c816daf3cdadb2a4c4c858f6840ce6dfe8e19b3c0fa11723c72b'}}],\n",
       " 'Name': 'the.best.zipcode.bucket.there.ever.was.ya.digg',\n",
       " 'Prefix': '',\n",
       " 'MaxKeys': 1000,\n",
       " 'EncodingType': 'url'}"
      ]
     },
     "execution_count": 8,
     "metadata": {},
     "output_type": "execute_result"
    }
   ],
   "source": [
    "#check the contents of the bucket and see if your file is there\n",
    "\n",
    "response = s3.list_objects(Bucket='the.best.zipcode.bucket.there.ever.was.ya.digg')\n",
    "response"
   ]
  },
  {
   "cell_type": "code",
   "execution_count": 13,
   "metadata": {},
   "outputs": [
    {
     "data": {
      "text/plain": [
       "{'ResponseMetadata': {'RequestId': '7365CEABC86D351D',\n",
       "  'HostId': 'feUxDN8yuV3CvmvT3qvDCglFwI7R0020ekRu+WjFS+IZ6m5gy3qAWRc2YVL/oXcBjyfDq0HnE88=',\n",
       "  'HTTPStatusCode': 204,\n",
       "  'HTTPHeaders': {'x-amz-id-2': 'feUxDN8yuV3CvmvT3qvDCglFwI7R0020ekRu+WjFS+IZ6m5gy3qAWRc2YVL/oXcBjyfDq0HnE88=',\n",
       "   'x-amz-request-id': '7365CEABC86D351D',\n",
       "   'date': 'Tue, 24 Mar 2020 23:35:57 GMT',\n",
       "   'server': 'AmazonS3'},\n",
       "  'RetryAttempts': 0}}"
      ]
     },
     "execution_count": 13,
     "metadata": {},
     "output_type": "execute_result"
    }
   ],
   "source": [
    "#delete your test file\n",
    "\n",
    "delete = s3.delete_object(\n",
    "    Bucket='the.best.zipcode.bucket.there.ever.was.ya.digg',\n",
    "    Key='hello world2')\n",
    "\n",
    "delete"
   ]
  },
  {
   "cell_type": "code",
   "execution_count": 14,
   "metadata": {},
   "outputs": [
    {
     "data": {
      "text/plain": [
       "{'ResponseMetadata': {'RequestId': 'EC1A62172FB97622',\n",
       "  'HostId': '7rKlthjlmTcR3elTWLraAlax3zQQ4d1cwtpeCJWCgDwc8jfTChp3tGwNDRqgDlJ9CVsb8G+7r7Q=',\n",
       "  'HTTPStatusCode': 200,\n",
       "  'HTTPHeaders': {'x-amz-id-2': '7rKlthjlmTcR3elTWLraAlax3zQQ4d1cwtpeCJWCgDwc8jfTChp3tGwNDRqgDlJ9CVsb8G+7r7Q=',\n",
       "   'x-amz-request-id': 'EC1A62172FB97622',\n",
       "   'date': 'Tue, 24 Mar 2020 23:36:02 GMT',\n",
       "   'x-amz-bucket-region': 'us-east-1',\n",
       "   'content-type': 'application/xml',\n",
       "   'transfer-encoding': 'chunked',\n",
       "   'server': 'AmazonS3'},\n",
       "  'RetryAttempts': 0},\n",
       " 'IsTruncated': False,\n",
       " 'Marker': '',\n",
       " 'Name': 'the.best.zipcode.bucket.there.ever.was.ya.digg',\n",
       " 'Prefix': '',\n",
       " 'MaxKeys': 1000,\n",
       " 'EncodingType': 'url'}"
      ]
     },
     "execution_count": 14,
     "metadata": {},
     "output_type": "execute_result"
    }
   ],
   "source": [
    "#check the contents of the bucket and confirm your file is deleted as expected\n",
    "\n",
    "check = s3.list_objects(Bucket='the.best.zipcode.bucket.there.ever.was.ya.digg')\n",
    "check"
   ]
  },
  {
   "cell_type": "code",
   "execution_count": 15,
   "metadata": {},
   "outputs": [],
   "source": [
    "#delete the bucket (buckets can only be deleted once they're empty)\n",
    "\n",
    "goodbye_bucket = s3.delete_bucket(Bucket='the.best.zipcode.bucket.there.ever.was.ya.digg')"
   ]
  },
  {
   "cell_type": "code",
   "execution_count": null,
   "metadata": {},
   "outputs": [],
   "source": []
  }
 ],
 "metadata": {
  "kernelspec": {
   "display_name": "Python 3",
   "language": "python",
   "name": "python3"
  },
  "language_info": {
   "codemirror_mode": {
    "name": "ipython",
    "version": 3
   },
   "file_extension": ".py",
   "mimetype": "text/x-python",
   "name": "python",
   "nbconvert_exporter": "python",
   "pygments_lexer": "ipython3",
   "version": "3.7.4"
  }
 },
 "nbformat": 4,
 "nbformat_minor": 2
}
